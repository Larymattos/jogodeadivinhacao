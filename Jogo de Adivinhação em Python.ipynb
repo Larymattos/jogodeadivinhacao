{
 "cells": [
  {
   "cell_type": "code",
   "execution_count": null,
   "metadata": {},
   "outputs": [],
   "source": [
    "import random\n",
    "\n",
    "def jogo_adivinhacao():\n",
    "    numero_secreto = random.randint(1, 100)  \n",
    "    tentativas = 0\n",
    "    max_tentativas = 10  \n",
    "\n",
    "    print(\"Bem-vindo ao Jogo da Adivinhação!\")\n",
    "    print(\"Estou pensando em um número entre 1 e 100.\")\n",
    "\n",
    "    while tentativas < max_tentativas:\n",
    "        try:\n",
    "            chute = int(input(\"Digite seu palpite: \"))\n",
    "        except ValueError:\n",
    "            print(\"Por favor, insira um número válido.\")\n",
    "            continue\n",
    "\n",
    "        tentativas += 1\n",
    "\n",
    "        if chute < numero_secreto:\n",
    "            print(\"Tente um número maior.\")\n",
    "        elif chute > numero_secreto:\n",
    "            print(\"Tente um número menor.\")\n",
    "        else:\n",
    "            print(f\"Parabéns! Você acertou o número em {tentativas} tentativas.\")\n",
    "            break\n",
    "    else:\n",
    "        print(f\"Fim do jogo. O número era {numero_secreto}.\")\n",
    "\n",
    "jogo_adivinhacao()\n"
   ]
  }
 ],
 "metadata": {
  "kernelspec": {
   "display_name": "Python 3",
   "language": "python",
   "name": "python3"
  },
  "language_info": {
   "codemirror_mode": {
    "name": "ipython",
    "version": 3
   },
   "file_extension": ".py",
   "mimetype": "text/x-python",
   "name": "python",
   "nbconvert_exporter": "python",
   "pygments_lexer": "ipython3",
   "version": "3.11.4"
  },
  "orig_nbformat": 4
 },
 "nbformat": 4,
 "nbformat_minor": 2
}
